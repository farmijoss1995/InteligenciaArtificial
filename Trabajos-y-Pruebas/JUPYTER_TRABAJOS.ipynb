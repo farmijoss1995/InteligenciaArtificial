{
 "cells": [
  {
   "cell_type": "code",
   "execution_count": 2,
   "id": "21a2c036",
   "metadata": {},
   "outputs": [
    {
     "name": "stdout",
     "output_type": "stream",
     "text": [
      "EL NUMERO ALEATORIO DE LA LISTA ES:\n",
      "18\n",
      "6\n",
      "17\n",
      "11\n",
      "14\n",
      "EL PROMEDIO DE LA LISTA ES:\n",
      "13.2\n",
      "EL TOTLA DE LA LISTA SUMA:\n",
      "66\n",
      "EL NUMERO MAYOR DE LA LISTA ES:\n",
      "18\n",
      "EL NUMERO MENOR DE LA LISTA ES:\n",
      "6\n"
     ]
    }
   ],
   "source": [
    "#-----NUMEROS-ALEATORIOS----------\n",
    "from random import seed\n",
    "from random import randint\n",
    "seed(101)\n",
    "print(\"EL NUMERO ALEATORIO DE LA LISTA ES:\")\n",
    "for x in range (5):\n",
    "    value = randint(0,20)\n",
    "\n",
    "    print (value)\n",
    "\n",
    "#-----------PROMEDIO--------------\n",
    "data = [18,6,17,11,14]\n",
    "mean = sum(data)/len(data)\n",
    "print(\"EL PROMEDIO DE LA LISTA ES:\")\n",
    "print(mean)\n",
    "#------------SUMA-----------------\n",
    "def sumar_todos(lista):\n",
    "    suma=0\n",
    "    for x in lista:\n",
    "        suma+=x\n",
    "    return suma\n",
    "mi_lista=[18,6,17,11,14]\n",
    "print(\"EL TOTLA DE LA LISTA SUMA:\")\n",
    "print(sumar_todos(mi_lista))\n",
    "#-----------NUMERO MAYOR---------\n",
    "listado = [18,6,17,11,14]\n",
    "max_item = max(listado, key=int)\n",
    "print(\"EL NUMERO MAYOR DE LA LISTA ES:\")\n",
    "print(max_item)\n",
    "#-----------NUMERO MENOR---------\n",
    "listado = [18,6,17,11,14]\n",
    "max_item = min(listado, key=int)\n",
    "print(\"EL NUMERO MENOR DE LA LISTA ES:\")\n",
    "print(max_item)\n",
    "#----------NUMERO PRIMO---------\n",
    "def primo(num):\n",
    "    cont=0;\n",
    "    \n",
    "    for i in range (1,num):\n",
    "        if (num%i==0):\n",
    "            cont+=1\n",
    "            if cont>1:\n",
    "                return False\n",
    "            return True\n",
    "        primos =[18,6,17,11,14]\n",
    "        for i in listado:\n",
    "            if i!=1:\n",
    "                if primo (i):\n",
    "                    primos.append(i)\n",
    "                    \n",
    "    print (primos)\n",
    "    print (\"EL NUMERO PRIMO DE LA LISTA ES:\")"
   ]
  },
  {
   "cell_type": "code",
   "execution_count": 3,
   "id": "58b154dc",
   "metadata": {},
   "outputs": [
    {
     "name": "stdout",
     "output_type": "stream",
     "text": [
      "La intensidad es:\n",
      "0.4333333333333333\n"
     ]
    }
   ],
   "source": [
    "#Ejercicio 1\n",
    "# Pasar a escala de grises el color codificado en los elementos de la lista `pixel`\n",
    "suma = 0.0\n",
    "intensidad = 0 #implementar\n",
    "pixel= [0.6,0.3,0.4] # intensidades de cada canal. \n",
    "#El elemento 0 es el R, el 1 el G y el 2 el B\n",
    "for pixeles in pixel:\n",
    "    suma += pixeles\n",
    "    intensidad = suma / len(pixel)\n",
    "# la intensidad en escala de grises es el promedio de la intensidad de cada canal R, G y B\n",
    "\n",
    "print(\"La intensidad es:\")\n",
    "print(intensidad)"
   ]
  },
  {
   "cell_type": "code",
   "execution_count": 4,
   "id": "a81f7ce1",
   "metadata": {},
   "outputs": [
    {
     "name": "stdout",
     "output_type": "stream",
     "text": [
      "En blanco y negro el pixel sería: (0 -> negro, 1 -> blanco)\n",
      "1\n"
     ]
    }
   ],
   "source": [
    "#Ejercicio 2\n",
    "# Pasar a blanco y negro el valor de intensidad codificado en la variable intensidad\n",
    "# podemos considerar que un pixel se convierte en blanco si su intensidad en escala de grises es mayor a 0.5\n",
    "# y negro de lo contrario\n",
    "bw = 0 # IMPLEMENTAR\n",
    "def escala_grises():\n",
    "     pixel= [0.6,0.3,0.4]\n",
    "     return sum(pixel)/len(pixel)\n",
    "def paso_color ():\n",
    "    intencidad = escala_grises()\n",
    "    if intencidad >=0.5:\n",
    "        return 0\n",
    "    else:\n",
    "        return 1\n",
    "bw=paso_color()\n",
    "print(\"En blanco y negro el pixel sería: (0 -> negro, 1 -> blanco)\")\n",
    "print(bw)"
   ]
  },
  {
   "cell_type": "code",
   "execution_count": 6,
   "id": "81f52b8e",
   "metadata": {},
   "outputs": [
    {
     "name": "stdout",
     "output_type": "stream",
     "text": [
      "- El maximo es:\n",
      "53\n"
     ]
    }
   ],
   "source": [
    "#Ejercicio 3: Escribir un for para buscar el máximo de la lista e imprimirlo\n",
    "lista=[44,11,15,29,53,12,30]\n",
    "maximo=0\n",
    "# IMPLEMENTAR\n",
    "for i in lista:\n",
    "    if i > maximo:\n",
    "      maximo = i  \n",
    "# debe imprimir 53\n",
    "print(\"- El maximo es:\")\n",
    "print(maximo)"
   ]
  },
  {
   "cell_type": "code",
   "execution_count": 15,
   "id": "8d912370",
   "metadata": {},
   "outputs": [
    {
     "name": "stdout",
     "output_type": "stream",
     "text": [
      "- La posición del máximo es:\n",
      "1\n",
      "Asendente\n",
      "[11, 12, 15, 29, 30, 44, 53]\n"
     ]
    }
   ],
   "source": [
    "#Ejercicio 4: Escribir un for para buscar el minimo elemento de la lista e imprimir su _posición_\n",
    "lista=[53,11,15,29,44,12,30]\n",
    "posicion=0\n",
    "minimo=max(lista)\n",
    "# IMPLEMENTAR\n",
    "for i in lista:\n",
    "    if i < minimo:\n",
    "       minimo=i\n",
    "       posicion=lista.index(minimo)  \n",
    "#debe imprimir 4\n",
    "print(\"- La posición del máximo es:\")\n",
    "print(posicion)\n",
    "\n",
    "# Ejercicio 5 : Ordenar la lista de forma asendente \n",
    "#IMPLEMENTAR\n",
    "lista.sort()\n",
    "print(\"Asendente\")\n",
    "print(lista)"
   ]
  },
  {
   "cell_type": "code",
   "execution_count": 19,
   "id": "f7dc4f9f",
   "metadata": {},
   "outputs": [
    {
     "name": "stdout",
     "output_type": "stream",
     "text": [
      "Numero de elementos:10\n",
      "[1, 2, 3, 5, 8, 13, 21, 34, 55, 89]\n"
     ]
    }
   ],
   "source": [
    "# Ejercicio 6\n",
    "# Crear una funcion en donde me permita enviar como parametro el numero de elementos y \n",
    "# devolver un listado de la serie fibonassi con el numero de elementos ingresado.\n",
    "#IMPLEMENTAR\n",
    "fibonacci=[]\n",
    "x=0\n",
    "y=1\n",
    "num = int(input(\"Numero de elementos:\"))\n",
    "for n in range(num):\n",
    "    fibonacci.append(x+y)\n",
    "    aux = x + y\n",
    "    x = y\n",
    "    y = aux\n",
    "print(fibonacci)"
   ]
  },
  {
   "cell_type": "code",
   "execution_count": 20,
   "id": "408e6960",
   "metadata": {},
   "outputs": [
    {
     "name": "stdout",
     "output_type": "stream",
     "text": [
      "La cantidad de ocurrencias es:\n",
      "3\n"
     ]
    }
   ],
   "source": [
    "#Ejercicio 7\n",
    "# Escribir una función que reciba una lista y un valor, \n",
    "#y devuelva la cantidad de veces que aparece ese valor en la lista\n",
    "lista = [1,4,2,3,5,1,4,2,3,6,1,7,1,3,5,1,1,5,3,2]\n",
    "valor = 2\n",
    "def ocurrencias(lista,valor):\n",
    "    cont = 0  \n",
    "    for num in lista:\n",
    "        if num == valor: \n",
    "           cont+=1\n",
    "    return cont\n",
    "\n",
    "print(\"La cantidad de ocurrencias es:\")\n",
    "print(ocurrencias(lista,valor))\n",
    "#debe imprimir 3, la cantidad de veces que aparece el 2 en la lista\n",
    "\n",
    "# Ejercicio 8 : Investigar las funciones que se pueden utilizar con listas, diccionarios y tuplas."
   ]
  },
  {
   "cell_type": "code",
   "execution_count": 22,
   "id": "b68e3b1c",
   "metadata": {},
   "outputs": [
    {
     "name": "stdout",
     "output_type": "stream",
     "text": [
      "******MENU******\n",
      "1.- Crear nombre de la lista\n",
      "2.- Ingreso por teclado datos\n",
      "3.- Busqueda en directorio\n",
      "4.- Edito la lista\n",
      "5.- Mostrar lista\n",
      "6.- Salir\n",
      "\n"
     ]
    },
    {
     "ename": "KeyboardInterrupt",
     "evalue": "Interrupted by user",
     "output_type": "error",
     "traceback": [
      "\u001b[1;31m---------------------------------------------------------------------------\u001b[0m",
      "\u001b[1;31mKeyboardInterrupt\u001b[0m                         Traceback (most recent call last)",
      "\u001b[1;32m<ipython-input-22-091c24d59622>\u001b[0m in \u001b[0;36m<module>\u001b[1;34m\u001b[0m\n\u001b[0;32m     33\u001b[0m \u001b[0mx\u001b[0m\u001b[1;33m=\u001b[0m\u001b[1;36m0\u001b[0m\u001b[1;33m\u001b[0m\u001b[1;33m\u001b[0m\u001b[0m\n\u001b[0;32m     34\u001b[0m \u001b[1;32mwhile\u001b[0m \u001b[0mopcionmenu\u001b[0m \u001b[1;33m!=\u001b[0m \u001b[1;36m6\u001b[0m\u001b[1;33m:\u001b[0m\u001b[1;33m\u001b[0m\u001b[1;33m\u001b[0m\u001b[0m\n\u001b[1;32m---> 35\u001b[1;33m     \u001b[0mopcionmenu\u001b[0m \u001b[1;33m=\u001b[0m \u001b[0mint\u001b[0m\u001b[1;33m(\u001b[0m\u001b[0minput\u001b[0m\u001b[1;33m(\u001b[0m\u001b[1;34m\"Inserta un numero para elegir una opcion: \"\u001b[0m\u001b[1;33m)\u001b[0m\u001b[1;33m)\u001b[0m\u001b[1;33m\u001b[0m\u001b[1;33m\u001b[0m\u001b[0m\n\u001b[0m\u001b[0;32m     36\u001b[0m     \u001b[1;32mif\u001b[0m \u001b[0mopcionmenu\u001b[0m \u001b[1;33m==\u001b[0m \u001b[1;36m1\u001b[0m\u001b[1;33m:\u001b[0m\u001b[1;33m\u001b[0m\u001b[1;33m\u001b[0m\u001b[0m\n\u001b[0;32m     37\u001b[0m         \u001b[0mprint\u001b[0m\u001b[1;33m(\u001b[0m\u001b[1;34m'Ingrese el nombre de la lista:'\u001b[0m\u001b[1;33m)\u001b[0m\u001b[1;33m\u001b[0m\u001b[1;33m\u001b[0m\u001b[0m\n",
      "\u001b[1;32mc:\\users\\usuario\\appdata\\local\\programs\\python\\python38\\lib\\site-packages\\ipykernel\\kernelbase.py\u001b[0m in \u001b[0;36mraw_input\u001b[1;34m(self, prompt)\u001b[0m\n\u001b[0;32m    846\u001b[0m                 \u001b[1;34m\"raw_input was called, but this frontend does not support input requests.\"\u001b[0m\u001b[1;33m\u001b[0m\u001b[1;33m\u001b[0m\u001b[0m\n\u001b[0;32m    847\u001b[0m             )\n\u001b[1;32m--> 848\u001b[1;33m         return self._input_request(str(prompt),\n\u001b[0m\u001b[0;32m    849\u001b[0m             \u001b[0mself\u001b[0m\u001b[1;33m.\u001b[0m\u001b[0m_parent_ident\u001b[0m\u001b[1;33m,\u001b[0m\u001b[1;33m\u001b[0m\u001b[1;33m\u001b[0m\u001b[0m\n\u001b[0;32m    850\u001b[0m             \u001b[0mself\u001b[0m\u001b[1;33m.\u001b[0m\u001b[0m_parent_header\u001b[0m\u001b[1;33m,\u001b[0m\u001b[1;33m\u001b[0m\u001b[1;33m\u001b[0m\u001b[0m\n",
      "\u001b[1;32mc:\\users\\usuario\\appdata\\local\\programs\\python\\python38\\lib\\site-packages\\ipykernel\\kernelbase.py\u001b[0m in \u001b[0;36m_input_request\u001b[1;34m(self, prompt, ident, parent, password)\u001b[0m\n\u001b[0;32m    890\u001b[0m             \u001b[1;32mexcept\u001b[0m \u001b[0mKeyboardInterrupt\u001b[0m\u001b[1;33m:\u001b[0m\u001b[1;33m\u001b[0m\u001b[1;33m\u001b[0m\u001b[0m\n\u001b[0;32m    891\u001b[0m                 \u001b[1;31m# re-raise KeyboardInterrupt, to truncate traceback\u001b[0m\u001b[1;33m\u001b[0m\u001b[1;33m\u001b[0m\u001b[1;33m\u001b[0m\u001b[0m\n\u001b[1;32m--> 892\u001b[1;33m                 \u001b[1;32mraise\u001b[0m \u001b[0mKeyboardInterrupt\u001b[0m\u001b[1;33m(\u001b[0m\u001b[1;34m\"Interrupted by user\"\u001b[0m\u001b[1;33m)\u001b[0m \u001b[1;32mfrom\u001b[0m \u001b[1;32mNone\u001b[0m\u001b[1;33m\u001b[0m\u001b[1;33m\u001b[0m\u001b[0m\n\u001b[0m\u001b[0;32m    893\u001b[0m             \u001b[1;32mexcept\u001b[0m \u001b[0mException\u001b[0m \u001b[1;32mas\u001b[0m \u001b[0me\u001b[0m\u001b[1;33m:\u001b[0m\u001b[1;33m\u001b[0m\u001b[1;33m\u001b[0m\u001b[0m\n\u001b[0;32m    894\u001b[0m                 \u001b[0mself\u001b[0m\u001b[1;33m.\u001b[0m\u001b[0mlog\u001b[0m\u001b[1;33m.\u001b[0m\u001b[0mwarning\u001b[0m\u001b[1;33m(\u001b[0m\u001b[1;34m\"Invalid Message:\"\u001b[0m\u001b[1;33m,\u001b[0m \u001b[0mexc_info\u001b[0m\u001b[1;33m=\u001b[0m\u001b[1;32mTrue\u001b[0m\u001b[1;33m)\u001b[0m\u001b[1;33m\u001b[0m\u001b[1;33m\u001b[0m\u001b[0m\n",
      "\u001b[1;31mKeyboardInterrupt\u001b[0m: Interrupted by user"
     ]
    }
   ],
   "source": [
    "# Ejercicio 9\n",
    "\n",
    "# Generar un CRUD (Crear, Leer, Actualizar y Eliminar) de una agenda de telefono.\n",
    "\n",
    "# IMPLEMENTAR\n",
    "def menu():\n",
    "    print('******MENU******')\n",
    "    print('1.- Crear nombre de la lista')\n",
    "    print('2.- Ingreso por teclado datos')\n",
    "    print('3.- Busqueda en directorio')\n",
    "    print('4.- Edito la lista')\n",
    "    print('5.- Mostrar lista')\n",
    "    print('6.- Salir')\n",
    "    print()\n",
    " \n",
    "def menu2():\n",
    "    print('a.- Busqueda por nombre')\n",
    "    print('b.- Busqueda por telefono')\n",
    "    print('c.- Busqueda por direccion')\n",
    " \n",
    "def menu3():\n",
    "    print(\"Editar lista\")\n",
    "    print('1.- Eliminar un contacto')\n",
    "    print('2.- Editar un contacto')\n",
    " \n",
    "directorio = []\n",
    "telefonos = {}\n",
    "nombres = {}\n",
    "direcciones = {}\n",
    "apodos = {}\n",
    "opcionmenu = 0\n",
    "menu()\n",
    "x=0\n",
    "while opcionmenu != 6:\n",
    "    opcionmenu = int(input(\"Inserta un numero para elegir una opcion: \"))\n",
    "    if opcionmenu == 1:\n",
    "        print('Ingrese el nombre de la lista:')\n",
    "        nombre_de_lista=input()\n",
    "        menu()\n",
    " \n",
    " \n",
    "    elif opcionmenu == 2:\n",
    "        print(\"Agregar Nombre, telefono, direccion y apodo\")\n",
    "        nombre = input(\"Nombre: \")\n",
    "        telefono = input(\"Telefono: \")\n",
    "        direccion = input(\"Direccion: \")\n",
    "        apodo = input(\"Apodo: \")\n",
    "        telefonos[nombre] = telefono\n",
    "        nombres[telefono] = nombre\n",
    "        direcciones[direccion] = nombre\n",
    "        directorio.append([nombre, telefono, direccion, apodo])\n",
    "        menu()\n",
    " \n",
    "    elif opcionmenu == 3:\n",
    "        print(\"Busqueda\")\n",
    "        menu2()\n",
    "        opcionmenu2 = input(\"Inserta una letra para elegir una opcion: \")\n",
    "        if opcionmenu2==\"a\":\n",
    "            nombre = input(\"Nombre: \")\n",
    "            if nombre in telefonos:\n",
    "                print(\"El telefono es\", telefonos[nombre])\n",
    "            else:\n",
    "                print(nombre, \"no se encuentra\")\n",
    " \n",
    "        if opcionmenu2==\"b\":\n",
    "            telefono = input(\"Telefono: \")\n",
    "            if telefono in nombres:\n",
    "                print(\"El Nombre es\", nombres[telefono])\n",
    "            else:\n",
    "                print(telefono, \"no se encuentra\")\n",
    " \n",
    "        if opcionmenu2==\"c\":\n",
    "            direccion = input(\"direccion: \")\n",
    "            for linea in direcciones:\n",
    "                linea = linea.rstrip()\n",
    "                if not linea.startswith(direccion) : continue\n",
    "                palabras = linea.split()\n",
    "                print()\n",
    "            else:\n",
    "                print(direccion, \"no se encuentra\")\n",
    "        menu()\n",
    "    elif opcionmenu == 4:\n",
    "        menu3()\n",
    "        opcionmenu3 = input(\"Inserta un numero para elegir una opcion: \")\n",
    "        if opcionmenu3==\"1\":\n",
    "            nombre = input(\"Nombre: \")\n",
    "            if nombre in directorio[0:10]:\n",
    "                print('borrado')\n",
    "            else:\n",
    "                print(nombre, \"no encontrado\")\n",
    "        else:\n",
    "            menu()\n",
    "        menu()\n",
    " \n",
    "    elif opcionmenu == 5:\n",
    " \n",
    "        print(\"\\nNombre de la lista: \",nombre_de_lista)\n",
    "        for e in directorio:\n",
    "            print(\"\\nLa lista es: \",directorio)\n",
    "        menu()\n",
    " \n",
    " \n",
    "    elif opcionmenu != 6:\n",
    "        menu()"
   ]
  },
  {
   "cell_type": "code",
   "execution_count": 25,
   "id": "17dce7b9",
   "metadata": {},
   "outputs": [
    {
     "name": "stdout",
     "output_type": "stream",
     "text": [
      "Numero de elementos:10\n",
      "cedula incorecta\n"
     ]
    }
   ],
   "source": [
    "#Ejercicio 10\n",
    "# Crear un metodo de validacion de cedula Ecuatoriana, \n",
    "#en caso de que la cedula no sea validad lanzar \n",
    "# una excepcion, ademas de controlar que solo \n",
    "#pueda ingresar digitos numericos por teclado.\n",
    "\n",
    "\n",
    "#IMPLEMENTAR\n",
    "def vcedula(texto):\n",
    "    nocero=texto.strip(\"0\")\n",
    "    cedula=int(nocero,0)\n",
    "    verificador=cedula%10\n",
    "    n=cedula//10\n",
    "    s=0\n",
    "    while (n>0):\n",
    "        impar=n%10\n",
    "        n=n//10\n",
    "        impar=2*impar\n",
    "        if (impar>9):\n",
    "            impar=impar-9\n",
    "        par=n%10\n",
    "        n=n//10\n",
    "        s=s+impar+par\n",
    "    ds=s//10+1\n",
    "    s=ds*10-s\n",
    "    if (s>=10):\n",
    "        s=s-10\n",
    "    if (s==verificador):\n",
    "        z=1\n",
    "    else:\n",
    "        z=0\n",
    "    return z\n",
    "num = input(\"Numero de elementos:\")\n",
    "if vcedula(num) == 0:\n",
    "    print (\"cedula incorecta\")\n",
    "else:\n",
    "    print (\"cedula corecta\")"
   ]
  },
  {
   "cell_type": "code",
   "execution_count": 24,
   "id": "55d424ea",
   "metadata": {},
   "outputs": [
    {
     "name": "stdout",
     "output_type": "stream",
     "text": [
      "lista guardada\n",
      "lista:\n",
      "['vaca', 'pato', 'gato']\n"
     ]
    }
   ],
   "source": [
    "# Ejercicio 11\n",
    "# Crear una aplicacion que me permita guardar en archivo y recuperar la informacion de nombres de animales.\n",
    "# Utilizar Csv\n",
    "\n",
    "#IMPLEMENTAR\n",
    "import pickle\n",
    "\n",
    "def guardar_lista():\n",
    "    lista_animal = [\"vaca\",\"pato\",\"gato\"]\n",
    "    pickle_out = open(\"dict.pickle\",\"wb\")\n",
    "    pickle.dump(lista_animal, pickle_out)\n",
    "    pickle_out.close()\n",
    "    print (\"lista guardada\")\n",
    "def leer_lista():\n",
    "    pickle_in = open(\"dict.pickle\",\"rb\")\n",
    "    lista_animal = pickle.load(pickle_in)\n",
    "    print (\"lista:\")\n",
    "    print (lista_animal)\n",
    "\n",
    "guardar_lista()\n",
    "\n",
    "leer_lista()"
   ]
  }
 ],
 "metadata": {
  "kernelspec": {
   "display_name": "Python 3",
   "language": "python",
   "name": "python3"
  },
  "language_info": {
   "codemirror_mode": {
    "name": "ipython",
    "version": 3
   },
   "file_extension": ".py",
   "mimetype": "text/x-python",
   "name": "python",
   "nbconvert_exporter": "python",
   "pygments_lexer": "ipython3",
   "version": "3.8.5"
  }
 },
 "nbformat": 4,
 "nbformat_minor": 5
}
